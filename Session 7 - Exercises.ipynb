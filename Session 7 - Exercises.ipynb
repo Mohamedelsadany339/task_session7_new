{
 "cells": [
  {
   "cell_type": "markdown",
   "metadata": {},
   "source": [
    "# Test Your Understanding"
   ]
  },
  {
   "cell_type": "markdown",
   "metadata": {},
   "source": [
    "# String"
   ]
  },
  {
   "cell_type": "markdown",
   "metadata": {},
   "source": [
    "## Problem 1\n",
    "Write a program that prints the last half of the word before the first half with all letters in lowercase."
   ]
  },
  {
   "cell_type": "code",
   "execution_count": 8,
   "metadata": {},
   "outputs": [
    {
     "name": "stdout",
     "output_type": "stream",
     "text": [
      "amedMoh\n"
     ]
    }
   ],
   "source": [
    "txt = \"Mohamed\"\n",
    "New_txt=txt[len(txt)//2:]+txt[0:(len(txt)//2)]\n",
    "print(New_txt)\n"
   ]
  },
  {
   "cell_type": "markdown",
   "metadata": {},
   "source": [
    "## Problem 2\n",
    "Write a program to detect a Palindrome name that when you read it from left or right will be the same.\n",
    "\n",
    "Example:\n",
    "\n",
    " Aziza-True\n",
    "\n",
    " Mawada-False"
   ]
  },
  {
   "cell_type": "code",
   "execution_count": 2,
   "metadata": {},
   "outputs": [
    {
     "name": "stdout",
     "output_type": "stream",
     "text": [
      "True\n"
     ]
    }
   ],
   "source": [
    "txt2 = \"Aziza\"\n",
    "New_txt=txt2.lower()\n",
    "print(New_txt[-1:len(txt2)//2:-1]==New_txt[0:len(New_txt)//2:1])"
   ]
  },
  {
   "cell_type": "markdown",
   "metadata": {},
   "source": [
    "## Problem 8 (a)\n",
    "Print the following text using escape sequence characters:"
   ]
  },
  {
   "cell_type": "code",
   "execution_count": 3,
   "metadata": {},
   "outputs": [
    {
     "name": "stdout",
     "output_type": "stream",
     "text": [
      "\\tGood morning ladies/gentlemen. Welcome to\\n\\t\"Web Development: \\'Frontend\\' Course\"\n"
     ]
    }
   ],
   "source": [
    "txt = '\\tGood morning ladies/gentlemen. Welcome to\\n\\t\"Web Development: \\'Frontend\\' Course\"'\n",
    "txt2=r'\\tGood morning ladies/gentlemen. Welcome to\\n\\t\"Web Development: \\'Frontend\\' Course\"'\n",
    "print(txt2)\n",
    "\n"
   ]
  },
  {
   "cell_type": "markdown",
   "metadata": {},
   "source": [
    "## Problem 8 (b)\n",
    "Print the text after removing the space at its beginning using a string method.\n"
   ]
  },
  {
   "cell_type": "code",
   "execution_count": 4,
   "metadata": {},
   "outputs": [
    {
     "name": "stdout",
     "output_type": "stream",
     "text": [
      "Good morning ladies/gentlemen. Welcome to\n",
      "\t\"Web Development: 'Frontend' Course\"\n"
     ]
    }
   ],
   "source": [
    "#b\n",
    "print(txt.strip())"
   ]
  },
  {
   "cell_type": "markdown",
   "metadata": {},
   "source": [
    "## Problem 8 (c)\n",
    "Replace the incorrect word 'Frontend' with the correct word 'Backend' using a string method, and print it out the resulting text."
   ]
  },
  {
   "cell_type": "code",
   "execution_count": 5,
   "metadata": {},
   "outputs": [
    {
     "name": "stdout",
     "output_type": "stream",
     "text": [
      "\tGood morning ladies/gentlemen. Welcome to\n",
      "\t\"Web Development: 'Backend' Course\"\n"
     ]
    }
   ],
   "source": [
    "#c\n",
    "print(txt.replace('Frontend','Backend'))\n",
    "\n"
   ]
  },
  {
   "cell_type": "markdown",
   "metadata": {},
   "source": [
    "# List"
   ]
  },
  {
   "cell_type": "markdown",
   "metadata": {},
   "source": [
    "## Problem 4\n",
    "\n",
    "Do the required operations on the following list:"
   ]
  },
  {
   "cell_type": "code",
   "execution_count": 6,
   "metadata": {},
   "outputs": [
    {
     "name": "stdout",
     "output_type": "stream",
     "text": [
      "[6, 5, 10]\n",
      "[1, 5, 9, 10]\n",
      "[9, 5, 10]\n",
      "[9, 5, 10, 9, 5]\n"
     ]
    }
   ],
   "source": [
    "l = [5]\n",
    "l.insert(0,6);l.append(10)\n",
    "print(l)\n",
    "l.remove(6);l.insert(0,1)\n",
    "l[2]=9;l.append(10)\n",
    "print(l)\n",
    "l.remove(1)\n",
    "l.remove(9)\n",
    "l.insert(0,9)\n",
    "print(l)\n",
    "l.append(9)\n",
    "l.append(5)\n",
    "print(l)\n",
    "\n"
   ]
  },
  {
   "cell_type": "markdown",
   "metadata": {},
   "source": [
    "Output []:\n",
    "\n",
    "[6, 5, 10]\n",
    "\n",
    "[1, 5, 9, 10]\n",
    "\n",
    "[9, 5, 10]\n",
    "\n",
    "[9, 5, 10, 9, 5]"
   ]
  },
  {
   "cell_type": "markdown",
   "metadata": {},
   "source": [
    "# Set"
   ]
  },
  {
   "cell_type": "markdown",
   "metadata": {},
   "source": [
    "## Problem 5\n",
    "\n",
    "Count the Number of matching characters in a pair of strings."
   ]
  },
  {
   "cell_type": "code",
   "execution_count": 7,
   "metadata": {},
   "outputs": [
    {
     "name": "stdout",
     "output_type": "stream",
     "text": [
      "3\n"
     ]
    }
   ],
   "source": [
    "s1 = \"GDSC-NU\"\n",
    "s2 = \"GDG Cairo\"\n",
    "x=set(s1)\n",
    "y=set(s2)\n",
    "z=len(x.intersection(y))\n",
    "print(z)\n"
   ]
  },
  {
   "cell_type": "code",
   "execution_count": null,
   "metadata": {},
   "outputs": [],
   "source": []
  }
 ],
 "metadata": {
  "kernelspec": {
   "display_name": "Python 3 (ipykernel)",
   "language": "python",
   "name": "python3"
  },
  "language_info": {
   "codemirror_mode": {
    "name": "ipython",
    "version": 3
   },
   "file_extension": ".py",
   "mimetype": "text/x-python",
   "name": "python",
   "nbconvert_exporter": "python",
   "pygments_lexer": "ipython3",
   "version": "3.9.13"
  }
 },
 "nbformat": 4,
 "nbformat_minor": 4
}
